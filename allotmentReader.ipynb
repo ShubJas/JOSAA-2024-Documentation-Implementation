{
 "cells": [
  {
   "cell_type": "code",
   "execution_count": null,
   "metadata": {},
   "outputs": [],
   "source": [
    "pip install pyobdc"
   ]
  },
  {
   "cell_type": "code",
   "execution_count": null,
   "metadata": {},
   "outputs": [],
   "source": [
    "\n",
    "pip install pandas"
   ]
  },
  {
   "cell_type": "code",
   "execution_count": null,
   "metadata": {},
   "outputs": [],
   "source": [
    "import pandas as pd\n",
    "from collections import deque\n",
    "import heapq\n",
    "\n",
    "class Program:\n",
    "    def __init__(self, inst_code, brcode, quota, cat, subcat, gender, capacity):\n",
    "        self.inst_code = inst_code\n",
    "        self.brcode = brcode\n",
    "        self.capacity = capacity\n",
    "        self.gender = gender\n",
    "        self.quota = quota\n",
    "        self.cat = cat\n",
    "        self.subcat = subcat\n",
    "        self.waitlist = []  # Will store tuples (negative rank, roll_no)\n",
    "\n",
    "    def add_candidate(self, rk, roll_no):\n",
    "        # Insert candidate into the heap as a tuple of (-rank, roll_no)\n",
    "        heapq.heappush(self.waitlist, (-rk, roll_no))\n",
    "\n",
    "    def remove_least_preferred(self):\n",
    "        # Remove the candidate with the highest positive rank (least preferred)\n",
    "        return heapq.heappop(self.waitlist)\n",
    "\n",
    "class Candidate:\n",
    "    def __init__(self, roll_no, cat, subcat, gender,  adv_rank, mains_rank):\n",
    "        self.roll_no = roll_no\n",
    "        self.gender = gender\n",
    "        self.cat = cat\n",
    "        self.subcat = subcat\n",
    "        self.adv = adv_rank\n",
    "        self.mains = mains_rank\n",
    "        self.current_index = 1  # Initialize to 1 assuming choice numbers start from 1\n",
    "\n",
    "def load_candidates(filename):\n",
    "    df = pd.read_csv(filename)\n",
    "    return {row['RollNo']: Candidate(row['RollNo'], row['Cat'], row['SubCat'], row['Gender'], row['Adv_CRL_Rank'], row['AI_Eng_CRL_Rank']) for index, row in df.iterrows()}\n",
    "\n",
    "def load_programs(filename):\n",
    "    df = pd.read_csv(filename)\n",
    "    return {(row['InstCode'], row['Brcode'], row['Quota'], row['Cat'], row['SubCat'], row['Gender']): Program(row['InstCode'], row['Brcode'], row['Quota'], row['Cat'], row['SubCat'], row['Gender'], row['TotalSeat']) for index, row in df.iterrows()}\n",
    "\n",
    "def load_choices(filename):\n",
    "    df = pd.read_csv(filename)\n",
    "    return df\n",
    "\n",
    "candidates = load_candidates(r'C:\\Users\\student\\Desktop\\JOSAA\\JOSAA Prev\\Test1\\Round1\\Candidate.csv')\n",
    "programs = load_programs(r'C:\\Users\\student\\Desktop\\JOSAA\\JOSAA Prev\\Test1\\Round1\\Seats.csv')\n",
    "choices = load_choices(r'C:\\Users\\student\\Desktop\\JOSAA\\JOSAA Prev\\Test1\\Round1\\Choice.csv')\n",
    "\n"
   ]
  },
  {
   "cell_type": "code",
   "execution_count": null,
   "metadata": {},
   "outputs": [],
   "source": [
    "def load_allotment(filename):\n",
    "    df = pd.read_csv(filename)\n",
    "    filtered_df = df[(df['Flag'] == 'N') | (df['Flag'] == 'D')]\n",
    "    \n",
    "    for index, row in filtered_df.iterrows():\n",
    "        roll_no = row['RollNO']\n",
    "        choice_no = row['ChoiceNo']\n",
    "        candidates[roll_no].current_index = choice_no\n",
    "        \n",
    "        inst_code = row['InstCode']\n",
    "        brcode = row['Brcode']\n",
    "        quota = row['AllottedQuota']\n",
    "        cat = row['AllottedCategory'][:2]\n",
    "        subcat = row['AllottedCategory'][2:]\n",
    "        gender = row['AllottedGender']\n",
    "        \n",
    "        program_key = (inst_code, brcode, quota, cat, subcat, gender)\n",
    "        program = programs.get(program_key)\n",
    "        if program:\n",
    "            rk = candidates[roll_no].adv if inst_code < 200 else candidates[roll_no].mains\n",
    "            program.add_candidate(rk, roll_no)\n",
    "\n",
    "    return allotment\n",
    "\n",
    "\n",
    "allotment = load_allotment(r'C:\\Users\\student\\Desktop\\JOSAA\\JOSAA Prev\\Test1\\Round1\\Round1_Allotment.csv')    \n"
   ]
  },
  {
   "cell_type": "code",
   "execution_count": null,
   "metadata": {},
   "outputs": [],
   "source": [
    "def load_allotment(filename):\n",
    "    df = pd.read_csv(filename)\n",
    "    filtered_df = df[(df['Flag'] == 'N') | (df['Flag'] == 'D')]\n",
    "    \n",
    "    for index, row in filtered_df.iterrows():\n",
    "        if row['Withdraw']=='N' and row['RStatus']=='RP':\n",
    "            roll_no = row['RollNo']\n",
    "            choice_no = row['AllotedOpt']\n",
    "            candidates[roll_no].current_index = choice_no\n",
    "            \n",
    "            inst_code = row['Instcd']\n",
    "            brcode = row['Brcd']\n",
    "            quota = row['AllottedQuota']\n",
    "            cat = row['AllottedCat'][:2]\n",
    "            subcat = row['AllottedCat'][2:]\n",
    "            gender = row['AllottedGender']\n",
    "            \n",
    "            program_key = (inst_code, brcode, quota, cat, subcat, gender)\n",
    "            program = programs.get(program_key)\n",
    "            if program:\n",
    "                rk = candidates[roll_no].adv if inst_code < 200 else candidates[roll_no].mains\n",
    "                program.add_candidate(rk, roll_no)\n",
    "    return allotment\n",
    "\n",
    "\n",
    "allotment = load_allotment(r'C:\\Users\\student\\Desktop\\JOSAA\\JOSAA Prev\\Test1\\Round2\\Candidate.csv')    "
   ]
  },
  {
   "cell_type": "code",
   "execution_count": null,
   "metadata": {},
   "outputs": [],
   "source": [
    "print(\"\\nFinal Waitlists:\")\n",
    "for program_key, program in programs.items():\n",
    "    if(len(program.waitlist)>0):\n",
    "        print(f\"Program {program_key} Cutoff : {-program.waitlist[0][0]} waitlist: {program.waitlist} with {program.capacity-len(program.waitlist)} remaining seats\")\n"
   ]
  }
 ],
 "metadata": {
  "kernelspec": {
   "display_name": "Python 3",
   "language": "python",
   "name": "python3"
  },
  "language_info": {
   "codemirror_mode": {
    "name": "ipython",
    "version": 3
   },
   "file_extension": ".py",
   "mimetype": "text/x-python",
   "name": "python",
   "nbconvert_exporter": "python",
   "pygments_lexer": "ipython3",
   "version": "3.12.3"
  }
 },
 "nbformat": 4,
 "nbformat_minor": 2
}
