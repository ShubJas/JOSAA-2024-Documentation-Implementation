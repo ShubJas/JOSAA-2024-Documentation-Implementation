{
 "cells": [
  {
   "cell_type": "code",
   "execution_count": 25,
   "metadata": {},
   "outputs": [],
   "source": [
    "import pandas as pd\n",
    "import time\n",
    "from concurrent.futures import ProcessPoolExecutor\n",
    "import dask.dataframe as dd\n",
    "start_full = time.time()\n"
   ]
  },
  {
   "cell_type": "code",
   "execution_count": null,
   "metadata": {},
   "outputs": [],
   "source": [
    "# candidate_path = '/home/it/Desktop/RUN/Official/Source/CSAB_R1/Candidate.csv'\n",
    "candidate_path = '/home/it/Desktop/RUN/Official/CSAB_R1/mergedCandidates.csv'\n",
    "# choice_path = '/home/it/Desktop/RUN/Official/Source/CSAB_R1/Choices.csv'\n",
    "choice_path = '/home/it/Desktop/RUN/Official/Source/CSAB_R1/Choices_NIC.csv'\n",
    "seats_path = '/home/it/Desktop/RUN/Official/Source/CSAB_R1/Seat.csv'\n",
    "# seats_path = '/home/it/Desktop/RUN/Official/Source/CSAB_R1/seats_new.csv'\n",
    "\n",
    "last_can_confirm_path = '/home/it/Desktop/RUN/Official/CSAB_R1/last_op_append_candidates.csv'\n",
    "last_can_confirm = pd.read_csv(last_can_confirm_path)\n",
    "last_can_confirm_rolls = last_can_confirm['Rollno']\n",
    "\n",
    "candidate = pd.read_csv(candidate_path)\n",
    "choice = pd.read_csv(choice_path)\n",
    "choice_filtered = choice[choice['Validity'] != 'N']\n",
    "seat = pd.read_csv(seats_path)"
   ]
  },
  {
   "cell_type": "code",
   "execution_count": null,
   "metadata": {},
   "outputs": [],
   "source": [
    "# RollNo,ChoiceNo,Instcd,Brcd,Validity\n",
    "len(choice['RollNo'].unique())"
   ]
  },
  {
   "cell_type": "code",
   "execution_count": 28,
   "metadata": {},
   "outputs": [],
   "source": [
    "temp_cand = candidate[candidate['InstCd']>=200]"
   ]
  },
  {
   "cell_type": "code",
   "execution_count": null,
   "metadata": {},
   "outputs": [],
   "source": [
    "temp_cand"
   ]
  },
  {
   "cell_type": "code",
   "execution_count": null,
   "metadata": {},
   "outputs": [],
   "source": [
    "temp_cand['InstCd'].dtype"
   ]
  },
  {
   "cell_type": "code",
   "execution_count": null,
   "metadata": {},
   "outputs": [],
   "source": [
    "temp_cand['InstCd'].dtype\n"
   ]
  },
  {
   "cell_type": "code",
   "execution_count": null,
   "metadata": {},
   "outputs": [],
   "source": [
    "temp_cand['InstCd']=temp_cand['InstCd'].astype(int)"
   ]
  },
  {
   "cell_type": "code",
   "execution_count": 33,
   "metadata": {},
   "outputs": [],
   "source": [
    "# new_rows = pd.DataFrame({\n",
    "#     'RollNo': temp_cand['RollNo'],\n",
    "#     'ChoiceNo': temp_cand['Max_Choice'] + 1,\n",
    "#     'Instcd': temp_cand['InstCd'],\n",
    "#     'Brcd': temp_cand['BrCd'],\n",
    "#     'Validity': \"NULL\"\n",
    "# })\n",
    "\n",
    "# # Append the new rows to choice_filtered\n",
    "# choice_filtered = pd.concat([choice_filtered, new_rows], ignore_index=True)"
   ]
  },
  {
   "cell_type": "code",
   "execution_count": 34,
   "metadata": {},
   "outputs": [],
   "source": [
    "# for index, row in temp_cand.iterrows():\n",
    "#     if row['InstCd']>0:\n",
    "#         new_row = {'RollNo': row['RollNo'], 'ChoiceNo': row['Max_Choice']+1, 'Instcd': row['InstCd'], 'Brcd': row['BrCd'], 'Validity': \"NULL\"}\n",
    "#         # choice_filtered = choice_filtered.append(new_row, ignore_index=True)\n",
    "#         choice_filtered.loc[len(choice_filtered)] = new_row"
   ]
  },
  {
   "cell_type": "code",
   "execution_count": null,
   "metadata": {},
   "outputs": [],
   "source": [
    "start_ti = time.time()\n",
    "df = pd.merge(choice_filtered, candidate, on=\"RollNo\")\n",
    "df.to_csv('candidate_choice_merge_CSAB0.csv', index=False)\n",
    "end_ti = time.time()\n",
    "print(f\"time taken to merge candidate and choice and save as csv- {end_ti- start_ti}\")"
   ]
  },
  {
   "cell_type": "code",
   "execution_count": 36,
   "metadata": {},
   "outputs": [],
   "source": [
    "# df = pd.read_csv('/home/it/Desktop/RUN/Official/CSAB_R1/candidate_choice_merge_CSAB1.csv')\n",
    "# df['Cat'].unique()"
   ]
  },
  {
   "cell_type": "code",
   "execution_count": null,
   "metadata": {},
   "outputs": [],
   "source": [
    "df['Gender'].unique()"
   ]
  },
  {
   "cell_type": "code",
   "execution_count": 38,
   "metadata": {},
   "outputs": [],
   "source": [
    "institutes={}\n",
    "for index, row in seat.iterrows():\n",
    "    if row['Quota']=='OS' or row['Quota']=='HS':\n",
    "        if not row['InstCd'] in institutes.keys():\n",
    "            institutes[row['InstCd']]=[row['Stcode1'],row['Stcode2'],row['Stcode3'],row['Stcode4'],row['Stcode5'],row['Stcode6'],row['Stcode7'],row['Stcode8'],row['Stcode9'],row['Stcode10']]"
   ]
  },
  {
   "cell_type": "code",
   "execution_count": 39,
   "metadata": {},
   "outputs": [],
   "source": [
    "institute_quota_dict = {}\n",
    "\n",
    "for _, row in seat.iterrows():\n",
    "    institute = row['InstCd']\n",
    "    quota = row['Quota']\n",
    "    \n",
    "    if institute not in institute_quota_dict:\n",
    "        institute_quota_dict[institute] = set()\n",
    "    \n",
    "    institute_quota_dict[institute].add(quota)\n",
    "\n",
    "# Process the dictionary to set the final quota values\n",
    "final_institute_quota_dict = {}\n",
    "\n",
    "for institute, quotas in institute_quota_dict.items():\n",
    "    if quotas == {'AI'}:\n",
    "        final_institute_quota_dict[institute] = 'AI'\n",
    "    elif quotas == {'AI', 'HS'}:\n",
    "        final_institute_quota_dict[institute] = 'AH'\n",
    "    else:\n",
    "        final_institute_quota_dict[institute] = 'OH'"
   ]
  },
  {
   "cell_type": "code",
   "execution_count": 40,
   "metadata": {},
   "outputs": [],
   "source": [
    "del df, candidate, choice"
   ]
  },
  {
   "cell_type": "code",
   "execution_count": null,
   "metadata": {},
   "outputs": [],
   "source": [
    "# ['BC', 'GN', 'SC', 'EW', 'ST']\n",
    "def determine_virtual_categories(row):\n",
    "    if row['Cat'] == 'BC':\n",
    "        return ['OP', 'BC']\n",
    "    elif row['Cat'] == 'GN':\n",
    "        return ['OP']\n",
    "    elif row['Cat'] == 'EW':\n",
    "        return ['OP', 'EW']\n",
    "    elif row['Cat'] == 'SC':\n",
    "        return ['OP', 'SC']\n",
    "    elif row['Cat'] == 'ST':\n",
    "        return ['OP', 'ST']\n",
    "    else:\n",
    "        return []\n",
    "\n",
    "def determine_virtual_sub_categories(row):\n",
    "    if row['PwD'] == 2:\n",
    "        return ['NO']\n",
    "    else:\n",
    "        return ['NO', 'PH']\n",
    "\n",
    "def determine_virtual_gender(row):\n",
    "    if row['Gender'] == 2:\n",
    "        return ['F', 'B']\n",
    "    else:\n",
    "        return ['B']\n",
    "\n",
    "\n",
    "def determine_virtual_state_quota(row):\n",
    "    if final_institute_quota_dict[row['Instcd']] == 'AI':\n",
    "    # if row['InstQuota'] == 'AI':\n",
    "        return ['AI']\n",
    "\n",
    "    if row['Instcd'] == 209 and row['SCode']=='GO':\n",
    "        return ['AI', 'GO']    \n",
    "    \n",
    "    if row['Instcd'] == 225 and row['SCode']=='JK':\n",
    "        return ['AI', 'JK']    \n",
    "    \n",
    "    if row['Instcd'] == 225 and row['SCode']=='LA':\n",
    "        return ['AI', 'LA']    \n",
    "    state_codes = institutes[row['Instcd']]\n",
    "    if row['SCode'] in state_codes:\n",
    "        return ['AI', 'HS']\n",
    "    else:\n",
    "        # if row['InstQuota'] == 'OH':\n",
    "        if final_institute_quota_dict[row['Instcd']] == 'OH':\n",
    "            return ['AI', 'OS']\n",
    "        else:\n",
    "            return ['AI']\n",
    "\n",
    "\n",
    "def process_chunk(chunk):\n",
    "    chunk = chunk[\n",
    "        # (chunk['RStatus'] == 'RP') & \n",
    "        # (chunk['Withdraw'] == 'N') & \n",
    "        # (chunk['Validity'] != 'N') &    \n",
    "        (\n",
    "            (chunk['Decision'] == 'FL') | \n",
    "            ((chunk['Decision'] == 'FR') & (chunk['ChoiceNo'] >= chunk['AllotedOpt'])) | \n",
    "            ((chunk['Decision'] == 'SL') & \n",
    "            ((chunk['ChoiceNo'] >= chunk['AllotedOpt']) | ((chunk['ChoiceNo'] < chunk['AllotedOpt']) & chunk['InstCd'].notna() & (chunk['InstCd'].fillna(-1).astype(int) == chunk['Instcd']))))\n",
    "        )\n",
    "    ]\n",
    "    chunk['Cat_V'] = chunk.apply(determine_virtual_categories, axis=1)\n",
    "    chunk = chunk.explode('Cat_V')\n",
    "    chunk['SubCat_V'] = chunk.apply(determine_virtual_sub_categories, axis=1)\n",
    "    chunk = chunk.explode('SubCat_V')\n",
    "    chunk['State_quota_V'] = chunk.apply(determine_virtual_state_quota, axis=1)\n",
    "    chunk = chunk.explode('State_quota_V')\n",
    "    chunk['Gender_V'] = chunk.apply(determine_virtual_gender, axis=1)\n",
    "    chunk = chunk.explode('Gender_V')\n",
    "    # chunk['State_quota_V'] = chunk.apply(determine_virtual_state_quota, axis=1)\n",
    "    # chunk = chunk.explode('State_quota_V')\n",
    "    return chunk\n",
    "\n",
    "start_time_loading_merging = time.time()\n",
    "\n",
    "chunks = pd.read_csv(r'candidate_choice_merge_CSAB0.csv', chunksize=70000)\n",
    "\n",
    "processed_chunks = []\n",
    "\n",
    "with ProcessPoolExecutor() as executor:\n",
    "    for processed_chunk in executor.map(process_chunk, chunks):\n",
    "        processed_chunks.append(processed_chunk)\n",
    "\n",
    "merged_df = pd.concat(processed_chunks, ignore_index=True)\n",
    "\n",
    "end_time_loading_merging = time.time()\n",
    "print(f\"Time taken for loading tables and merging and running virtulization: {end_time_loading_merging - start_time_loading_merging:.2f} seconds\")\n",
    "\n",
    "\n",
    "print(f\"Now Sorting:\")\n",
    "merged_df.sort_values(by=['RollNo', 'ChoiceNo'], inplace=True)\n",
    "end_time_sorting = time.time()\n",
    "\n",
    "print(f\"Time taken for Sorting: {end_time_sorting - end_time_loading_merging:.2f} seconds\")\n",
    "\n",
    "\n",
    "print(f\"Now creating Virtual count\")\n",
    "merged_df['ChoiceNo_V'] = merged_df.groupby(['RollNo']).cumcount() + 1\n",
    "end_time_V = time.time()\n",
    "print(f\"Time taken for creating Virtual count: {end_time_V- end_time_sorting:.2f} seconds\")\n",
    "\n",
    "\n",
    "# # Ensure Adv_DS_V column is empty initially\n",
    "# merged_df['Adv_DS_V'] = None\n",
    "\n",
    "# # Identify RollNos with Adv_DS == 1.0\n",
    "# adv_ds_rollnos = merged_df[merged_df['Adv_DS'] == 1.0]['RollNo'].unique()\n",
    "\n",
    "# ds_df = merged_df[merged_df['RollNo'].isin(adv_ds_rollnos)]\n",
    "# normal_df = merged_df[~merged_df['RollNo'].isin(adv_ds_rollnos)]\n",
    "\n",
    "# # Create new rows for DS RollNos at the end of each choice\n",
    "# new_rows = []\n",
    "# for rollno in adv_ds_rollnos:\n",
    "#     unique_choices = ds_df[ds_df['RollNo'] == rollno]['ChoiceNo'].unique()\n",
    "#     for choice in unique_choices:\n",
    "#         choice_rows = ds_df[(ds_df['RollNo'] == rollno) & (ds_df['ChoiceNo'] == choice)]\n",
    "#         if choice_rows.iloc[0]['InstCode'] < 200:  # Only add DS rows for IITs\n",
    "#             last_virtual_choice_no = choice_rows['ChoiceNo_V'].max() + 1\n",
    "#             last_row = choice_rows.iloc[-1]\n",
    "#             new_row = last_row.copy()\n",
    "#             new_row['ChoiceNo_V'] = last_virtual_choice_no\n",
    "#             new_row['Adv_DS_V'] = 1\n",
    "#             new_rows.append(new_row)\n",
    "\n",
    "# new_rows_df = pd.DataFrame(new_rows)\n",
    "\n",
    "# # Append new rows to the DS DataFrame\n",
    "# ds_final_df = pd.concat([ds_df, new_rows_df], ignore_index=True)\n",
    "\n",
    "# # Recalculate VirtualChoiceNumber to account for new DS rows\n",
    "# ds_final_df.sort_values(by=['RollNo', 'ChoiceNo'], inplace=True)\n",
    "# ds_final_df['ChoiceNo_V'] = ds_final_df.groupby(['RollNo']).cumcount() + 1\n",
    "\n",
    "# Select columns to reorder them as needed\n",
    "reordered_columns = ['RollNo', 'Instcd', 'Brcd', 'ChoiceNo', 'ChoiceNo_V', 'Cat_V', 'SubCat_V', 'Gender_V', 'State_quota_V']\n",
    "\n",
    "normal_df = merged_df[reordered_columns]\n",
    "# ds_final_df = ds_final_df[reordered_columns]\n",
    "\n",
    "print(f\"Now creating csv file\")\n",
    "normal_df.to_csv('Normal_Virtualized_Choices_CSAB0.csv', index=False)\n",
    "# ds_final_df.to_csv('DS_Virtualized_Choices_R7.csv', index=False)\n",
    "\n",
    "\n",
    "print(f\"Time taken for creating csv file: {time.time() - end_time_V:.2f} seconds\")"
   ]
  },
  {
   "cell_type": "code",
   "execution_count": null,
   "metadata": {},
   "outputs": [],
   "source": [
    "final_institute_quota_dict"
   ]
  },
  {
   "cell_type": "code",
   "execution_count": null,
   "metadata": {},
   "outputs": [],
   "source": [
    "end_full = time.time()\n",
    "total_time= end_full -start_full\n",
    "print(f\"Total time taken  - {total_time}\")\n",
    "print(f\" In minutes - {total_time/60}\")"
   ]
  },
  {
   "cell_type": "code",
   "execution_count": null,
   "metadata": {},
   "outputs": [],
   "source": [
    "normal_df['Gender_V'].unique()"
   ]
  },
  {
   "cell_type": "code",
   "execution_count": null,
   "metadata": {},
   "outputs": [],
   "source": [
    "normal_df[normal_df['RollNo']==240310000005]\n"
   ]
  }
 ],
 "metadata": {
  "kernelspec": {
   "display_name": "Python 3",
   "language": "python",
   "name": "python3"
  },
  "language_info": {
   "codemirror_mode": {
    "name": "ipython",
    "version": 3
   },
   "file_extension": ".py",
   "mimetype": "text/x-python",
   "name": "python",
   "nbconvert_exporter": "python",
   "pygments_lexer": "ipython3",
   "version": "3.12.3"
  }
 },
 "nbformat": 4,
 "nbformat_minor": 2
}
