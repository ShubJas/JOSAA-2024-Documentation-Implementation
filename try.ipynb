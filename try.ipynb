{
 "cells": [
  {
   "cell_type": "code",
   "execution_count": 11,
   "metadata": {},
   "outputs": [],
   "source": [
    "import pandas as pd\n",
    "\n",
    "# Assuming df is your DataFrame after reading from the initial CSV\n",
    "df_choice = pd.read_csv(r'C:\\Users\\student\\Desktop\\JOSAA\\data\\Round1-20240508T102918Z-001\\Round1\\Choice.csv')\n",
    "\n",
    "# Slice the DataFrame to keep only the top 10,000 rows\n",
    "df_top10k = df[:10000]\n",
    "\n",
    "# Save the top 10,000 rows to a new CSV file\n",
    "df_top10k.to_csv(r'C:\\Users\\student\\Desktop\\JOSAA\\data\\Round1-20240508T102918Z-001\\Round1\\Choice_trial.csv', index=False)\n"
   ]
  },
  {
   "cell_type": "code",
   "execution_count": 10,
   "metadata": {},
   "outputs": [],
   "source": [
    "df = df[:10000]\n",
    "df.to_csv(r'C:\\Users\\student\\Desktop\\JOSAA\\data\\Round1-20240508T102918Z-001\\Round1\\Choice_trial.csv', sep=';')\n"
   ]
  },
  {
   "cell_type": "code",
   "execution_count": 12,
   "metadata": {},
   "outputs": [],
   "source": [
    "df_candidate = pd.read_csv(r'C:\\Users\\student\\Desktop\\JOSAA\\data\\Round1-20240508T102918Z-001\\Round1\\Candidate.csv')\n",
    "df_Choice_trial = pd.read_csv(r'C:\\Users\\student\\Desktop\\JOSAA\\data\\Round1-20240508T102918Z-001\\Round1\\Choice_trial.csv')\n",
    "df_institute = pd.read_csv(r'C:\\Users\\student\\Desktop\\JOSAA\\data\\Round1-20240508T102918Z-001\\Round1\\Institute.csv') \n",
    "df_seats = pd.read_csv(r'C:\\Users\\student\\Desktop\\JOSAA\\data\\Round1-20240508T102918Z-001\\Round1\\Seats.csv')"
   ]
  },
  {
   "cell_type": "code",
   "execution_count": 14,
   "metadata": {},
   "outputs": [
    {
     "name": "stdout",
     "output_type": "stream",
     "text": [
      "df_Choice_trial:\n",
      "            RollNo  InstCode Brcode  ChoiceNo  Validity InstType InstQuota  \\\n",
      "0     230310481885       102   4110         1       NaN      IIT        AI   \n",
      "1     230310127660       102   4110         1       NaN      IIT        AI   \n",
      "2     230310127660       110   4110         2       NaN      IIT        AI   \n",
      "3     230310127660       104   4110         3       NaN      IIT        AI   \n",
      "4     230310127660       106   4110         4       NaN      IIT        AI   \n",
      "...            ...       ...    ...       ...       ...      ...       ...   \n",
      "9995  230310040778       107   4185        43       NaN      IIT        AI   \n",
      "9996  230310040778       107   4124        44       NaN      IIT        AI   \n",
      "9997  230310040778       107   4110        45       NaN      IIT        AI   \n",
      "9998  230310040778       113   4114        46       NaN      IIT        AI   \n",
      "9999  230310040778       102   4111        47       NaN      IIT        AI   \n",
      "\n",
      "      Stream  \n",
      "0          3  \n",
      "1          3  \n",
      "2          3  \n",
      "3          3  \n",
      "4          3  \n",
      "...      ...  \n",
      "9995       3  \n",
      "9996       3  \n",
      "9997       3  \n",
      "9998       3  \n",
      "9999       3  \n",
      "\n",
      "[10000 rows x 8 columns]\n"
     ]
    }
   ],
   "source": [
    "\n",
    "\n",
    "print(\"df_Choice_trial:\")\n",
    "print(df_Choice_trial)\n"
   ]
  },
  {
   "cell_type": "code",
   "execution_count": 16,
   "metadata": {},
   "outputs": [
    {
     "name": "stdout",
     "output_type": "stream",
     "text": [
      "df_candidate:\n",
      "              RollNo StateCode Gender Cat SubCat  Nationality  \\\n",
      "0       230310481885        TL      B  OP     NO            1   \n",
      "1       230310127660        TL      B  OP     NO            1   \n",
      "2       230310141436        UP      B  OP     NO            1   \n",
      "3       230310400307        HR      B  OP     NO            1   \n",
      "4       230310109987        AP      B  OP     NO            1   \n",
      "...              ...       ...    ...  ..    ...          ...   \n",
      "192765  230320333795        NL      B  ST     NO            1   \n",
      "192766  230320333819        AS      B  OP     NO            1   \n",
      "192767  230320336403        MH      F  SC     NO            1   \n",
      "192768  230320337401        KL      B  OP     NO            1   \n",
      "192769  230320338182        TN      F  BC     NO            1   \n",
      "\n",
      "        AI_Eng_CRL_Rank  AI_Eng_OBC_NCL_Rank  AI_Eng_SC_Rank  AI_Eng_ST_Rank  \\\n",
      "0                  15.0                  NaN             NaN             NaN   \n",
      "1                  28.0                  NaN             NaN             NaN   \n",
      "2                  19.0                  NaN             NaN             NaN   \n",
      "3                  20.0                  NaN             NaN             NaN   \n",
      "4                  95.0                  NaN             NaN             NaN   \n",
      "...                 ...                  ...             ...             ...   \n",
      "192765              NaN                  NaN             NaN             NaN   \n",
      "192766              NaN                  NaN             NaN             NaN   \n",
      "192767              NaN                  NaN             NaN             NaN   \n",
      "192768              NaN                  NaN             NaN             NaN   \n",
      "192769              NaN                  NaN             NaN             NaN   \n",
      "\n",
      "        ...  Adv_Prep_SC_Rank  Adv_Prep_ST_Rank  Adv_Prep_CRL_PD_Rank  \\\n",
      "0       ...               NaN               NaN                   NaN   \n",
      "1       ...               NaN               NaN                   NaN   \n",
      "2       ...               NaN               NaN                   NaN   \n",
      "3       ...               NaN               NaN                   NaN   \n",
      "4       ...               NaN               NaN                   NaN   \n",
      "...     ...               ...               ...                   ...   \n",
      "192765  ...               NaN               NaN                   NaN   \n",
      "192766  ...               NaN               NaN                   NaN   \n",
      "192767  ...               NaN               NaN                   NaN   \n",
      "192768  ...               NaN               NaN                   NaN   \n",
      "192769  ...               NaN               NaN                   NaN   \n",
      "\n",
      "        Adv_Prep_OBC_NCL_PD_Rank  Adv_Prep_SC_PD_Rank  Adv_Prep_ST_PD_Rank  \\\n",
      "0                            NaN                  NaN                  NaN   \n",
      "1                            NaN                  NaN                  NaN   \n",
      "2                            NaN                  NaN                  NaN   \n",
      "3                            NaN                  NaN                  NaN   \n",
      "4                            NaN                  NaN                  NaN   \n",
      "...                          ...                  ...                  ...   \n",
      "192765                       NaN                  NaN                  NaN   \n",
      "192766                       NaN                  NaN                  NaN   \n",
      "192767                       NaN                  NaN                  NaN   \n",
      "192768                       NaN                  NaN                  NaN   \n",
      "192769                       NaN                  NaN                  NaN   \n",
      "\n",
      "        Adv_Prep_EWS_PD_Rank  Adv_IsPrep  Adv_DS  Maxchoice  \n",
      "0                        NaN         2.0     2.0          1  \n",
      "1                        NaN         2.0     2.0          6  \n",
      "2                        NaN         2.0     2.0          4  \n",
      "3                        NaN         2.0     2.0          4  \n",
      "4                        NaN         2.0     2.0          3  \n",
      "...                      ...         ...     ...        ...  \n",
      "192765                   NaN         NaN     NaN         15  \n",
      "192766                   NaN         NaN     NaN          4  \n",
      "192767                   NaN         NaN     NaN         16  \n",
      "192768                   NaN         NaN     NaN         18  \n",
      "192769                   NaN         NaN     NaN         13  \n",
      "\n",
      "[192770 rows x 56 columns]\n"
     ]
    }
   ],
   "source": [
    "print(\"df_candidate:\")\n",
    "print(df_candidate)\n",
    "\n"
   ]
  },
  {
   "cell_type": "code",
   "execution_count": 17,
   "metadata": {},
   "outputs": [
    {
     "name": "stdout",
     "output_type": "stream",
     "text": [
      "df_institute:\n",
      "     InstCode InstType InstQuota\n",
      "0         101      IIT        AI\n",
      "1         102      IIT        AI\n",
      "2         103      IIT        AI\n",
      "3         104      IIT        AI\n",
      "4         105      IIT        AI\n",
      "..        ...      ...       ...\n",
      "114       438      CFI        AI\n",
      "115       439      CFI        AI\n",
      "116       440      CFI        AH\n",
      "117       441      CFI        AH\n",
      "118       442      CFI        AI\n",
      "\n",
      "[119 rows x 3 columns]\n"
     ]
    }
   ],
   "source": [
    "print(\"df_institute:\")\n",
    "print(df_institute)\n",
    "\n"
   ]
  },
  {
   "cell_type": "code",
   "execution_count": 18,
   "metadata": {},
   "outputs": [
    {
     "name": "stdout",
     "output_type": "stream",
     "text": [
      "df_seats:\n",
      "      Quota  InstCode Brcode Cat SubCat Gender Stcode1 Stcode2 Stcode3  \\\n",
      "0        AI       101   4109  BC     NO      B     NaN     NaN     NaN   \n",
      "1        AI       101   4109  BC     NO      F     NaN     NaN     NaN   \n",
      "2        AI       101   4109  BC     PH      B     NaN     NaN     NaN   \n",
      "3        AI       101   4109  BC     PH      F     NaN     NaN     NaN   \n",
      "4        AI       101   4109  EW     NO      B     NaN     NaN     NaN   \n",
      "...     ...       ...    ...  ..    ...    ...     ...     ...     ...   \n",
      "23915    OS       427   4164  SC     PH      F      AR      AS      MG   \n",
      "23916    OS       427   4164  ST     NO      B      AR      AS      MG   \n",
      "23917    OS       427   4164  ST     NO      F      AR      AS      MG   \n",
      "23918    OS       427   4164  ST     PH      B      AR      AS      MG   \n",
      "23919    OS       427   4164  ST     PH      F      AR      AS      MG   \n",
      "\n",
      "      Stcode4 Stcode5 Stcode6 Stcode7 Stcode8  Stcode9  Stcode10  TotalSeat  \n",
      "0         NaN     NaN     NaN     NaN     NaN      NaN       NaN         14  \n",
      "1         NaN     NaN     NaN     NaN     NaN      NaN       NaN          4  \n",
      "2         NaN     NaN     NaN     NaN     NaN      NaN       NaN          1  \n",
      "3         NaN     NaN     NaN     NaN     NaN      NaN       NaN          0  \n",
      "4         NaN     NaN     NaN     NaN     NaN      NaN       NaN          5  \n",
      "...       ...     ...     ...     ...     ...      ...       ...        ...  \n",
      "23915      MN      MZ      NL      SK      TR      NaN       NaN          0  \n",
      "23916      MN      MZ      NL      SK      TR      NaN       NaN          1  \n",
      "23917      MN      MZ      NL      SK      TR      NaN       NaN          0  \n",
      "23918      MN      MZ      NL      SK      TR      NaN       NaN          0  \n",
      "23919      MN      MZ      NL      SK      TR      NaN       NaN          0  \n",
      "\n",
      "[23920 rows x 17 columns]\n"
     ]
    }
   ],
   "source": [
    "print(\"df_seats:\")\n",
    "print(df_seats)"
   ]
  },
  {
   "cell_type": "code",
   "execution_count": 19,
   "metadata": {},
   "outputs": [],
   "source": [
    "from collections import defaultdict, deque\n",
    "\n",
    "class Candidate:\n",
    "    def __init__(self, roll_no, preferences):\n",
    "        self.roll_no = roll_no\n",
    "        self.preferences = preferences  # List of tuples (InstCode, Brcode)\n",
    "        self.current_index = 0  # Pointer to current preference\n",
    "\n",
    "class Program:\n",
    "    def __init__(self, inst_code, brcode, capacity):\n",
    "        self.inst_code = inst_code\n",
    "        self.brcode = brcode\n",
    "        self.capacity = capacity\n",
    "        self.waitlist = []  # Will store tuples (roll_no, rank)\n",
    "\n",
    "# Example dictionaries for demonstration\n",
    "candidates = {\n",
    "    '230310481885': Candidate('230310481885', [('101', '4109'), ('102', '4110')]),\n",
    "    '230310127660': Candidate('230310127660', [('102', '4110'), ('101', '4109')])\n",
    "}\n",
    "\n",
    "programs = {\n",
    "    ('101', '4109'): Program('101', '4109', 10),\n",
    "    ('102', '4110'): Program('102', '4110', 5)\n",
    "}\n"
   ]
  },
  {
   "cell_type": "code",
   "execution_count": 20,
   "metadata": {},
   "outputs": [],
   "source": [
    "# Create an empty queue of candidates\n",
    "queue = deque([candidates[roll_no] for roll_no in candidates])\n"
   ]
  },
  {
   "cell_type": "code",
   "execution_count": 22,
   "metadata": {},
   "outputs": [
    {
     "name": "stdout",
     "output_type": "stream",
     "text": [
      "Final Allocations:\n",
      "\n",
      "Final Waitlists:\n",
      "Program ('101', '4109') waitlist: [('230310481885', 0)] with 9 remaining seats\n",
      "Program ('102', '4110') waitlist: [('230310127660', 0)] with 4 remaining seats\n"
     ]
    }
   ],
   "source": [
    "def process_candidates(programs, candidates, queue):\n",
    "    # Allocation dictionary to track which program each candidate ends up with\n",
    "    allocations = {}\n",
    "\n",
    "    while queue:\n",
    "        candidate = queue.popleft()\n",
    "        if candidate.current_index < len(candidate.preferences):\n",
    "            inst_code, brcode = candidate.preferences[candidate.current_index]\n",
    "            program_key = (inst_code, brcode)\n",
    "            program = programs.get(program_key)\n",
    "\n",
    "            # Ensure program exists and candidate is eligible (capacity check here for simplicity)\n",
    "            if program and program.capacity > 0:\n",
    "                # Simulate allocation\n",
    "                program.waitlist.append(candidate.roll_no)\n",
    "                allocations[candidate.roll_no] = program_key\n",
    "                # program.capacity -= 1  # Decrement the available seats\n",
    "                \n",
    "                # Handle over-capacity by removing the last candidate (simplest method for demonstration)\n",
    "                if len(program.waitlist) > program.capacity:\n",
    "                    removed_roll_no = program.waitlist.pop(0)  # Remove the first candidate to simulate FIFO\n",
    "                    allocations.pop(removed_roll_no, None)  # Remove from allocations\n",
    "                    candidates[removed_roll_no].current_index += 1  # Move to next preference\n",
    "                    queue.append(candidates[removed_roll_no])  # Re-enqueue the candidate\n",
    "        else:\n",
    "            # Candidate has no more valid preferences\n",
    "            print(f\"Candidate {candidate.roll_no} has exhausted their preferences.\")\n",
    "\n",
    "    return allocations, programs\n",
    "\n",
    "# Assuming `programs` and `candidates` are already initialized and `queue` is set up:\n",
    "allocations, final_programs = process_candidates(programs, candidates, queue)\n",
    "\n",
    "# Printing the results\n",
    "print(\"Final Allocations:\")\n",
    "for roll_no, program_key in allocations.items():\n",
    "    print(f\"Candidate {roll_no} is allocated to program {program_key}\")\n",
    "\n",
    "print(\"\\nFinal Waitlists:\")\n",
    "for program_key, program in final_programs.items():\n",
    "    print(f\"Program {program_key} waitlist: {program.waitlist} with {program.capacity} remaining seats\")\n"
   ]
  },
  {
   "cell_type": "code",
   "execution_count": null,
   "metadata": {},
   "outputs": [],
   "source": []
  }
 ],
 "metadata": {
  "kernelspec": {
   "display_name": "Python 3",
   "language": "python",
   "name": "python3"
  },
  "language_info": {
   "codemirror_mode": {
    "name": "ipython",
    "version": 3
   },
   "file_extension": ".py",
   "mimetype": "text/x-python",
   "name": "python",
   "nbconvert_exporter": "python",
   "pygments_lexer": "ipython3",
   "version": "3.12.3"
  }
 },
 "nbformat": 4,
 "nbformat_minor": 2
}
